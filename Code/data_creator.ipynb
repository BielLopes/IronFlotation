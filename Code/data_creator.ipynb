{
 "cells": [
  {
   "cell_type": "code",
   "execution_count": 37,
   "metadata": {},
   "outputs": [],
   "source": [
    "import numpy as np\n",
    "import pandas as pd\n",
    "import matplotlib.pyplot as plt\n",
    "import seaborn as sns"
   ]
  },
  {
   "cell_type": "code",
   "execution_count": 38,
   "metadata": {},
   "outputs": [],
   "source": [
    "data_set = pd.read_csv(\"./MiningProcess_Flotation_Plant_Database.csv\",decimal=\",\",parse_dates=[\"date\"],infer_datetime_format=True).drop_duplicates()"
   ]
  },
  {
   "cell_type": "code",
   "execution_count": 3,
   "metadata": {},
   "outputs": [],
   "source": [
    "import math\n",
    "\n",
    "def round_up_float_to_2_decimals(num):\n",
    "    return math.ceil(num * 100) / 100"
   ]
  },
  {
   "cell_type": "code",
   "execution_count": 41,
   "metadata": {},
   "outputs": [
    {
     "name": "stdout",
     "output_type": "stream",
     "text": [
      "3948\n"
     ]
    }
   ],
   "source": [
    "data_array = []\n",
    "\n",
    "date_old = None\n",
    "\n",
    "for w, date in enumerate(data_set['date']):\n",
    "    if date != date_old and w >= 26814:\n",
    "        data_array.append(date)\n",
    "        date_old = date\n",
    "        \n",
    "\n",
    "print(len(data_array))\n",
    "data_array = np.array(data_array)"
   ]
  },
  {
   "cell_type": "code",
   "execution_count": 45,
   "metadata": {},
   "outputs": [
    {
     "name": "stdout",
     "output_type": "stream",
     "text": [
      "3948\n"
     ]
    }
   ],
   "source": [
    "sf_array = []\n",
    "sf_sum = []\n",
    "\n",
    "date_old = data_set['date'][26814]\n",
    "\n",
    "for w, data in enumerate(list(zip(data_set['date'], data_set['Starch Flow']))):\n",
    "    date = data[0]\n",
    "    if date != date_old and w >= 26814:\n",
    "        sf_sum.append(data[1])\n",
    "        sf_array.append(round_up_float_to_2_decimals(np.mean(sf_sum)))\n",
    "        sf_sum = []\n",
    "        date_old = date\n",
    "    elif w >= 26814:\n",
    "        sf_sum.append(data[1])\n",
    "\n",
    "sf_array.append(round_up_float_to_2_decimals(np.mean(sf_sum)))\n",
    "        \n",
    "\n",
    "print(len(sf_array))\n",
    "sf_array = np.array(sf_array)"
   ]
  },
  {
   "cell_type": "code",
   "execution_count": 46,
   "metadata": {},
   "outputs": [
    {
     "name": "stdout",
     "output_type": "stream",
     "text": [
      "3948\n"
     ]
    }
   ],
   "source": [
    "af_array = []\n",
    "af_sum = []\n",
    "\n",
    "date_old = data_set['date'][26814]\n",
    "\n",
    "for w, data in enumerate(list(zip(data_set['date'], data_set['Amina Flow']))):\n",
    "    date = data[0]\n",
    "    if date != date_old and w >= 26814:\n",
    "        af_sum.append(data[1])\n",
    "        af_array.append(round_up_float_to_2_decimals(np.mean(af_sum)))\n",
    "        af_sum = []\n",
    "        date_old = date\n",
    "    elif w >= 26814:\n",
    "        af_sum.append(data[1])\n",
    "\n",
    "af_array.append(round_up_float_to_2_decimals(np.mean(af_sum)))\n",
    "        \n",
    "\n",
    "print(len(af_array))\n",
    "af_array = np.array(af_array)"
   ]
  },
  {
   "cell_type": "code",
   "execution_count": 48,
   "metadata": {},
   "outputs": [
    {
     "name": "stdout",
     "output_type": "stream",
     "text": [
      "3948\n"
     ]
    }
   ],
   "source": [
    "opf_array = []\n",
    "opf_sum = []\n",
    "\n",
    "date_old = data_set['date'][26814]\n",
    "\n",
    "for w, data in enumerate(list(zip(data_set['date'], data_set['Ore Pulp Flow']))):\n",
    "    date = data[0]\n",
    "    if date != date_old and w >= 26814:\n",
    "        opf_sum.append(data[1])\n",
    "        opf_array.append(round_up_float_to_2_decimals(np.mean(opf_sum)))\n",
    "        opf_sum = []\n",
    "        date_old = date\n",
    "    elif w >= 26814:\n",
    "        opf_sum.append(data[1])\n",
    "\n",
    "opf_array.append(round_up_float_to_2_decimals(np.mean(opf_sum)))\n",
    "        \n",
    "\n",
    "print(len(opf_array))\n",
    "opf_array = np.array(opf_array)"
   ]
  },
  {
   "cell_type": "code",
   "execution_count": 49,
   "metadata": {},
   "outputs": [
    {
     "name": "stdout",
     "output_type": "stream",
     "text": [
      "3948\n"
     ]
    }
   ],
   "source": [
    "opp_array = []\n",
    "opp_sum = []\n",
    "\n",
    "date_old = data_set['date'][26814]\n",
    "\n",
    "for w, data in enumerate(list(zip(data_set['date'], data_set['Ore Pulp pH']))):\n",
    "    date = data[0]\n",
    "    if date != date_old and w >= 26814:\n",
    "        opp_sum.append(data[1])\n",
    "        opp_array.append(round_up_float_to_2_decimals(np.mean(opp_sum)))\n",
    "        opp_sum = []\n",
    "        date_old = date\n",
    "    elif w >= 26814:\n",
    "        opp_sum.append(data[1])\n",
    "\n",
    "opp_array.append(round_up_float_to_2_decimals(np.mean(opp_sum)))\n",
    "\n",
    "print(len(opp_array))\n",
    "opp_array = np.array(opp_array)"
   ]
  },
  {
   "cell_type": "code",
   "execution_count": 50,
   "metadata": {},
   "outputs": [
    {
     "name": "stdout",
     "output_type": "stream",
     "text": [
      "3948\n"
     ]
    }
   ],
   "source": [
    "opd_array = []\n",
    "opd_sum = []\n",
    "\n",
    "date_old = data_set['date'][26814]\n",
    "\n",
    "for w, data in enumerate(list(zip(data_set['date'], data_set['Ore Pulp Density']))):\n",
    "    date = data[0]\n",
    "    if date != date_old and w >= 26814:\n",
    "        opd_sum.append(data[1])\n",
    "        opd_array.append(round_up_float_to_2_decimals(np.mean(opd_sum)))\n",
    "        opd_sum = []\n",
    "        date_old = date\n",
    "    elif w >= 26814:\n",
    "        opd_sum.append(data[1])\n",
    "\n",
    "opd_array.append(round_up_float_to_2_decimals(np.mean(opd_sum)))\n",
    "\n",
    "print(len(opd_array))\n",
    "opd_array = np.array(opd_array)"
   ]
  },
  {
   "cell_type": "code",
   "execution_count": 51,
   "metadata": {},
   "outputs": [
    {
     "name": "stdout",
     "output_type": "stream",
     "text": [
      "3948\n"
     ]
    }
   ],
   "source": [
    "ff1_array = []\n",
    "ff1_sum = []\n",
    "\n",
    "date_old = data_set['date'][26814]\n",
    "\n",
    "for w, data in enumerate(list(zip(data_set['date'], data_set['Flotation Column 01 Air Flow']))):\n",
    "    date = data[0]\n",
    "    if date != date_old and w >= 26814:\n",
    "        ff1_sum.append(data[1])\n",
    "        ff1_array.append(round_up_float_to_2_decimals(np.mean(ff1_sum)))\n",
    "        ff1_sum = []\n",
    "        date_old = date\n",
    "    elif w >= 26814:\n",
    "        ff1_sum.append(data[1])\n",
    "        \n",
    "ff1_array.append(round_up_float_to_2_decimals(np.mean(ff1_sum)))\n",
    "\n",
    "print(len(ff1_array))\n",
    "ff1_array = np.array(ff1_array)"
   ]
  },
  {
   "cell_type": "code",
   "execution_count": 52,
   "metadata": {},
   "outputs": [
    {
     "name": "stdout",
     "output_type": "stream",
     "text": [
      "3948\n"
     ]
    }
   ],
   "source": [
    "ff2_array = []\n",
    "ff2_sum = []\n",
    "\n",
    "date_old = data_set['date'][26814]\n",
    "\n",
    "for w, data in enumerate(list(zip(data_set['date'], data_set['Flotation Column 02 Air Flow']))):\n",
    "    date = data[0]\n",
    "    if date != date_old and w >= 26814:\n",
    "        ff2_sum.append(data[1])\n",
    "        ff2_array.append(round_up_float_to_2_decimals(np.mean(ff2_sum)))\n",
    "        ff2_sum = []\n",
    "        date_old = date\n",
    "    elif w >= 26814:\n",
    "        ff2_sum.append(data[1])\n",
    "        \n",
    "ff2_array.append(round_up_float_to_2_decimals(np.mean(ff2_sum)))\n",
    "\n",
    "print(len(ff2_array))\n",
    "ff2_array = np.array(ff2_array)"
   ]
  },
  {
   "cell_type": "code",
   "execution_count": 53,
   "metadata": {},
   "outputs": [
    {
     "name": "stdout",
     "output_type": "stream",
     "text": [
      "3948\n"
     ]
    }
   ],
   "source": [
    "ff3_array = []\n",
    "ff3_sum = []\n",
    "\n",
    "date_old = data_set['date'][26814]\n",
    "\n",
    "for w, data in enumerate(list(zip(data_set['date'], data_set['Flotation Column 03 Air Flow']))):\n",
    "    date = data[0]\n",
    "    if date != date_old and w >= 26814:\n",
    "        ff3_sum.append(data[1])\n",
    "        ff3_array.append(round_up_float_to_2_decimals(np.mean(ff3_sum)))\n",
    "        ff3_sum = []\n",
    "        date_old = date\n",
    "    elif w >= 26814:\n",
    "        ff3_sum.append(data[1])\n",
    "        \n",
    "ff3_array.append(round_up_float_to_2_decimals(np.mean(ff3_sum)))\n",
    "\n",
    "print(len(ff3_array))\n",
    "ff3_array = np.array(ff3_array)"
   ]
  },
  {
   "cell_type": "code",
   "execution_count": 55,
   "metadata": {},
   "outputs": [
    {
     "name": "stdout",
     "output_type": "stream",
     "text": [
      "3948\n"
     ]
    }
   ],
   "source": [
    "ff4_array = []\n",
    "ff4_sum = []\n",
    "\n",
    "date_old = data_set['date'][26814]\n",
    "\n",
    "for w, data in enumerate(list(zip(data_set['date'], data_set['Flotation Column 04 Air Flow']))):\n",
    "    date = data[0]\n",
    "    if date != date_old and w >= 26814:\n",
    "        ff4_sum.append(data[1])\n",
    "        ff4_array.append(round_up_float_to_2_decimals(np.mean(ff4_sum)))\n",
    "        ff4_sum = []\n",
    "        date_old = date\n",
    "    elif w >= 26814:\n",
    "        ff4_sum.append(data[1])\n",
    "        \n",
    "ff4_array.append(round_up_float_to_2_decimals(np.mean(ff4_sum)))\n",
    "\n",
    "print(len(ff4_array))\n",
    "ff4_array = np.array(ff4_array)"
   ]
  },
  {
   "cell_type": "code",
   "execution_count": 54,
   "metadata": {},
   "outputs": [
    {
     "name": "stdout",
     "output_type": "stream",
     "text": [
      "3948\n"
     ]
    }
   ],
   "source": [
    "ff5_array = []\n",
    "ff5_sum = []\n",
    "\n",
    "date_old = data_set['date'][26814]\n",
    "\n",
    "for w, data in enumerate(list(zip(data_set['date'], data_set['Flotation Column 05 Air Flow']))):\n",
    "    date = data[0]\n",
    "    if date != date_old and w >= 26814:\n",
    "        ff5_sum.append(data[1])\n",
    "        ff5_array.append(round_up_float_to_2_decimals(np.mean(ff5_sum)))\n",
    "        ff5_sum = []\n",
    "        date_old = date\n",
    "    elif w >= 26814:\n",
    "        ff5_sum.append(data[1])\n",
    "        \n",
    "ff5_array.append(round_up_float_to_2_decimals(np.mean(ff5_sum)))\n",
    "\n",
    "print(len(ff5_array))\n",
    "ff5_array = np.array(ff5_array)"
   ]
  },
  {
   "cell_type": "code",
   "execution_count": 56,
   "metadata": {},
   "outputs": [
    {
     "name": "stdout",
     "output_type": "stream",
     "text": [
      "3948\n"
     ]
    }
   ],
   "source": [
    "ff6_array = []\n",
    "ff6_sum = []\n",
    "\n",
    "date_old = data_set['date'][26814]\n",
    "\n",
    "for w, data in enumerate(list(zip(data_set['date'], data_set['Flotation Column 06 Air Flow']))):\n",
    "    date = data[0]\n",
    "    if date != date_old and w >= 26814:\n",
    "        ff6_sum.append(data[1])\n",
    "        ff6_array.append(round_up_float_to_2_decimals(np.mean(ff6_sum)))\n",
    "        ff6_sum = []\n",
    "        date_old = date\n",
    "    elif w >= 26814:\n",
    "        ff6_sum.append(data[1])\n",
    "        \n",
    "ff6_array.append(round_up_float_to_2_decimals(np.mean(ff6_sum)))\n",
    "\n",
    "print(len(ff6_array))\n",
    "ff6_array = np.array(ff6_array)"
   ]
  },
  {
   "cell_type": "code",
   "execution_count": 57,
   "metadata": {},
   "outputs": [
    {
     "name": "stdout",
     "output_type": "stream",
     "text": [
      "3948\n"
     ]
    }
   ],
   "source": [
    "ff7_array = []\n",
    "ff7_sum  = []\n",
    "\n",
    "date_old = data_set['date'][26814]\n",
    "\n",
    "for w, data in enumerate(list(zip(data_set['date'], data_set['Flotation Column 07 Air Flow']))):\n",
    "    date = data[0]\n",
    "    if date != date_old and w >= 26814:\n",
    "        ff7_sum.append(data[1])\n",
    "        ff7_array.append(round_up_float_to_2_decimals(np.mean(ff7_sum)))\n",
    "        ff7_sum = []\n",
    "        date_old = date\n",
    "    elif w >= 26814:\n",
    "        ff7_sum.append(data[1])\n",
    "        \n",
    "ff7_array.append(round_up_float_to_2_decimals(np.mean(ff7_sum)))\n",
    "\n",
    "print(len(ff7_array))\n",
    "ff7_array = np.array(ff7_array)"
   ]
  },
  {
   "cell_type": "code",
   "execution_count": 58,
   "metadata": {},
   "outputs": [
    {
     "name": "stdout",
     "output_type": "stream",
     "text": [
      "3948\n"
     ]
    }
   ],
   "source": [
    "fl1_array = []\n",
    "fl1_sum  = []\n",
    "\n",
    "date_old = data_set['date'][26814]\n",
    "\n",
    "for w, data in enumerate(list(zip(data_set['date'], data_set['Flotation Column 01 Level']))):\n",
    "    date = data[0]\n",
    "    if date != date_old and w >= 26814:\n",
    "        fl1_sum.append(data[1])\n",
    "        fl1_array.append(round_up_float_to_2_decimals(np.mean(fl1_sum)))\n",
    "        fl1_sum = []\n",
    "        date_old = date\n",
    "    elif w >= 26814:\n",
    "        fl1_sum.append(data[1])\n",
    "        \n",
    "fl1_array.append(round_up_float_to_2_decimals(np.mean(fl1_sum)))\n",
    "\n",
    "print(len(fl1_array))\n",
    "fl1_array = np.array(fl1_array)"
   ]
  },
  {
   "cell_type": "code",
   "execution_count": 59,
   "metadata": {},
   "outputs": [
    {
     "name": "stdout",
     "output_type": "stream",
     "text": [
      "3948\n"
     ]
    }
   ],
   "source": [
    "fl2_array = []\n",
    "fl2_sum  = []\n",
    "\n",
    "date_old = data_set['date'][26814]\n",
    "\n",
    "for w, data in enumerate(list(zip(data_set['date'], data_set['Flotation Column 02 Level']))):\n",
    "    date = data[0]\n",
    "    if date != date_old and w >= 26814:\n",
    "        fl2_sum.append(data[1])\n",
    "        fl2_array.append(round_up_float_to_2_decimals(np.mean(fl2_sum)))\n",
    "        fl2_sum = []\n",
    "        date_old = date\n",
    "    elif w >= 26814:\n",
    "        fl2_sum.append(data[1])\n",
    "        \n",
    "fl2_array.append(round_up_float_to_2_decimals(np.mean(fl2_sum)))\n",
    "\n",
    "print(len(fl2_array))\n",
    "fl2_array = np.array(fl2_array)"
   ]
  },
  {
   "cell_type": "code",
   "execution_count": 60,
   "metadata": {},
   "outputs": [
    {
     "name": "stdout",
     "output_type": "stream",
     "text": [
      "3948\n"
     ]
    }
   ],
   "source": [
    "fl3_array = []\n",
    "fl3_sum  = []\n",
    "\n",
    "date_old = data_set['date'][26814]\n",
    "\n",
    "for w, data in enumerate(list(zip(data_set['date'], data_set['Flotation Column 03 Level']))):\n",
    "    date = data[0]\n",
    "    if date != date_old and w >= 26814:\n",
    "        fl3_sum.append(data[1])\n",
    "        fl3_array.append(round_up_float_to_2_decimals(np.mean(fl3_sum)))\n",
    "        fl3_sum = []\n",
    "        date_old = date\n",
    "    elif w >= 26814:\n",
    "        fl3_sum.append(data[1])\n",
    "\n",
    "fl3_array.append(round_up_float_to_2_decimals(np.mean(fl3_sum)))\n",
    "\n",
    "print(len(fl3_array))\n",
    "fl3_array = np.array(fl3_array)"
   ]
  },
  {
   "cell_type": "code",
   "execution_count": 61,
   "metadata": {},
   "outputs": [
    {
     "name": "stdout",
     "output_type": "stream",
     "text": [
      "3948\n"
     ]
    }
   ],
   "source": [
    "fl4_array = []\n",
    "fl4_sum  = []\n",
    "\n",
    "date_old = data_set['date'][26814]\n",
    "\n",
    "for w, data in enumerate(list(zip(data_set['date'], data_set['Flotation Column 04 Level']))):\n",
    "    date = data[0]\n",
    "    if date != date_old and w >= 26814:\n",
    "        fl4_sum.append(data[1])\n",
    "        fl4_array.append(round_up_float_to_2_decimals(np.mean(fl4_sum)))\n",
    "        fl4_sum = []\n",
    "        date_old = date\n",
    "    elif w >= 26814:\n",
    "        fl4_sum.append(data[1])\n",
    "        \n",
    "fl4_array.append(round_up_float_to_2_decimals(np.mean(fl4_sum)))\n",
    "\n",
    "print(len(fl4_array))\n",
    "fl4_array = np.array(fl4_array)"
   ]
  },
  {
   "cell_type": "code",
   "execution_count": 62,
   "metadata": {},
   "outputs": [
    {
     "name": "stdout",
     "output_type": "stream",
     "text": [
      "3948\n"
     ]
    }
   ],
   "source": [
    "fl5_array = []\n",
    "fl5_sum  = []\n",
    "\n",
    "date_old = data_set['date'][26814]\n",
    "\n",
    "for w, data in enumerate(list(zip(data_set['date'], data_set['Flotation Column 05 Level']))):\n",
    "    date = data[0]\n",
    "    if date != date_old and w >= 26814:\n",
    "        fl5_sum.append(data[1])\n",
    "        fl5_array.append(round_up_float_to_2_decimals(np.mean(fl5_sum)))\n",
    "        fl5_sum = []\n",
    "        date_old = date\n",
    "    elif w >= 26814:\n",
    "        fl5_sum.append(data[1])\n",
    "        \n",
    "fl5_array.append(round_up_float_to_2_decimals(np.mean(fl5_sum)))\n",
    "\n",
    "print(len(fl5_array))\n",
    "fl5_array = np.array(fl5_array)"
   ]
  },
  {
   "cell_type": "code",
   "execution_count": 63,
   "metadata": {},
   "outputs": [
    {
     "name": "stdout",
     "output_type": "stream",
     "text": [
      "3948\n"
     ]
    }
   ],
   "source": [
    "fl6_array = []\n",
    "fl6_sum  = []\n",
    "\n",
    "date_old = data_set['date'][26814]\n",
    "\n",
    "for w, data in enumerate(list(zip(data_set['date'], data_set['Flotation Column 06 Level']))):\n",
    "    date = data[0]\n",
    "    if date != date_old and w >= 26814:\n",
    "        fl6_sum.append(data[1])\n",
    "        fl6_array.append(round_up_float_to_2_decimals(np.mean(fl6_sum)))\n",
    "        fl6_sum = []\n",
    "        date_old = date\n",
    "    elif w >= 26814:\n",
    "        fl6_sum.append(data[1])\n",
    "        \n",
    "fl6_array.append(round_up_float_to_2_decimals(np.mean(fl6_sum)))\n",
    "\n",
    "print(len(fl6_array))\n",
    "fl6_array = np.array(fl6_array)"
   ]
  },
  {
   "cell_type": "code",
   "execution_count": 64,
   "metadata": {},
   "outputs": [
    {
     "name": "stdout",
     "output_type": "stream",
     "text": [
      "3948\n"
     ]
    }
   ],
   "source": [
    "fl7_array = []\n",
    "fl7_sum  = []\n",
    "\n",
    "date_old = data_set['date'][26814]\n",
    "\n",
    "for w, data in enumerate(list(zip(data_set['date'], data_set['Flotation Column 07 Level']))):\n",
    "    date = data[0]\n",
    "    if date != date_old and w >= 26814:\n",
    "        fl7_sum.append(data[1])\n",
    "        fl7_array.append(round_up_float_to_2_decimals(np.mean(fl7_sum)))\n",
    "        fl7_sum = []\n",
    "        date_old = date\n",
    "    elif w >= 26814:\n",
    "        fl7_sum.append(data[1])\n",
    "        \n",
    "fl7_array.append(round_up_float_to_2_decimals(np.mean(fl7_sum)))\n",
    "\n",
    "print(len(fl7_array))\n",
    "fl7_array = np.array(fl7_array)"
   ]
  },
  {
   "cell_type": "code",
   "execution_count": 65,
   "metadata": {},
   "outputs": [
    {
     "name": "stdout",
     "output_type": "stream",
     "text": [
      "3948\n"
     ]
    }
   ],
   "source": [
    "ofd_array = []\n",
    "ofd_sum  = []\n",
    "\n",
    "date_old = data_set['date'][26814]\n",
    "\n",
    "for w, data in enumerate(list(zip(data_set['date'], data_set['% Iron Feed']))):\n",
    "    date = data[0]\n",
    "    if date != date_old and w >= 26814:\n",
    "        ofd_sum.append(data[1])\n",
    "        ofd_array.append(round_up_float_to_2_decimals(np.mean(ofd_sum)))\n",
    "        ofd_sum = []\n",
    "        date_old = date\n",
    "    elif w >= 26814:\n",
    "        ofd_sum.append(data[1])\n",
    "        \n",
    "ofd_array.append(round_up_float_to_2_decimals(np.mean(ofd_sum)))\n",
    "\n",
    "print(len(ofd_array))\n",
    "ofd_array = np.array(ofd_array)"
   ]
  },
  {
   "cell_type": "code",
   "execution_count": 66,
   "metadata": {},
   "outputs": [
    {
     "name": "stdout",
     "output_type": "stream",
     "text": [
      "3948\n"
     ]
    }
   ],
   "source": [
    "sfd_array = []\n",
    "sfd_sum  = []\n",
    "\n",
    "date_old = data_set['date'][26814]\n",
    "\n",
    "for w, data in enumerate(list(zip(data_set['date'], data_set['% Silica Feed']))):\n",
    "    date = data[0]\n",
    "    if date != date_old and w >= 26814:\n",
    "        sfd_sum.append(data[1])\n",
    "        sfd_array.append(round_up_float_to_2_decimals(np.mean(sfd_sum)))\n",
    "        sfd_sum = []\n",
    "        date_old = date\n",
    "    elif w >= 26814:\n",
    "        sfd_sum.append(data[1])\n",
    "        \n",
    "sfd_array.append(round_up_float_to_2_decimals(np.mean(sfd_sum)))\n",
    "\n",
    "print(len(sfd_array))\n",
    "sfd_array = np.array(sfd_array)"
   ]
  },
  {
   "cell_type": "code",
   "execution_count": 67,
   "metadata": {},
   "outputs": [
    {
     "name": "stdout",
     "output_type": "stream",
     "text": [
      "3948\n"
     ]
    }
   ],
   "source": [
    "ic_array = []\n",
    "ic_sum  = []\n",
    "\n",
    "date_old = data_set['date'][26814]\n",
    "\n",
    "for w, data in enumerate(list(zip(data_set['date'], data_set['% Iron Concentrate']))):\n",
    "    date = data[0]\n",
    "    if date != date_old and w >= 26814:\n",
    "        ic_sum.append(data[1])\n",
    "        ic_array.append(round_up_float_to_2_decimals(np.mean(ic_sum)))\n",
    "        ic_sum = []\n",
    "        date_old = date\n",
    "    elif w >= 26814:\n",
    "        ic_sum.append(data[1])\n",
    "        \n",
    "ic_array.append(round_up_float_to_2_decimals(np.mean(ic_sum)))\n",
    "\n",
    "print(len(ic_array))\n",
    "ic_array = np.array(ic_array)"
   ]
  },
  {
   "cell_type": "code",
   "execution_count": 68,
   "metadata": {},
   "outputs": [
    {
     "name": "stdout",
     "output_type": "stream",
     "text": [
      "3948\n"
     ]
    }
   ],
   "source": [
    "sc_array = []\n",
    "sc_sum  = []\n",
    "\n",
    "date_old = data_set['date'][26814]\n",
    "\n",
    "for w, data in enumerate(list(zip(data_set['date'], data_set['% Silica Concentrate']))):\n",
    "    date = data[0]\n",
    "    if date != date_old and w >= 26814:\n",
    "        sc_sum.append(data[1])\n",
    "        sc_array.append(round_up_float_to_2_decimals(np.mean(sc_sum)))\n",
    "        sc_sum = []\n",
    "        date_old = date\n",
    "    elif w >= 26814:\n",
    "        sc_sum.append(data[1])\n",
    "        \n",
    "sc_array.append(round_up_float_to_2_decimals(np.mean(sc_sum)))\n",
    "\n",
    "print(len(sc_array))\n",
    "sc_array = np.array(sc_array)"
   ]
  },
  {
   "cell_type": "code",
   "execution_count": 70,
   "metadata": {},
   "outputs": [],
   "source": [
    "df = pd.DataFrame({\n",
    "    'Data':                          data_array,\n",
    "    '% Iron Feed':                   ofd_array,\n",
    "    '% Silica Feed':                 sfd_array,\n",
    "    'Starch Flow':                   sf_array,\n",
    "    'Amina Flow':                    af_array,\n",
    "    'Ore Pulp Flow':                 opf_array,\n",
    "    'Ore Pulp pH':                   opp_array,\n",
    "    'Ore Pulp Density':              opd_array,\n",
    "    'Flotation Column 01 Air Flow':  ff1_array,\n",
    "    'Flotation Column 02 Air Flow':  ff2_array,\n",
    "    'Flotation Column 03 Air Flow':  ff3_array,\n",
    "    'Flotation Column 04 Air Flow':  ff4_array,\n",
    "    'Flotation Column 05 Air Flow':  ff5_array,\n",
    "    'Flotation Column 06 Air Flow':  ff6_array,\n",
    "    'Flotation Column 07 Air Flow':\t ff7_array,\n",
    "    'Flotation Column 01 Level':     fl1_array,\n",
    "    'Flotation Column 02 Level':     fl2_array,\n",
    "    'Flotation Column 03 Level':     fl3_array,\n",
    "    'Flotation Column 04 Level':     fl4_array,\n",
    "    'Flotation Column 05 Level':     fl5_array,\n",
    "    'Flotation Column 06 Level':     fl6_array,\n",
    "    'Flotation Column 07 Level':     fl7_array,\n",
    "    '% Iron Concentrate':            ic_array,\n",
    "    '% Silica Concentrate':          sc_array\n",
    "})\n",
    "\n",
    "df.to_csv(\"CompiledMeanDataRounded.csv\", index=False)"
   ]
  },
  {
   "cell_type": "code",
   "execution_count": null,
   "metadata": {},
   "outputs": [],
   "source": []
  }
 ],
 "metadata": {
  "kernelspec": {
   "display_name": "Python 3.8.10 64-bit",
   "language": "python",
   "name": "python3"
  },
  "language_info": {
   "codemirror_mode": {
    "name": "ipython",
    "version": 3
   },
   "file_extension": ".py",
   "mimetype": "text/x-python",
   "name": "python",
   "nbconvert_exporter": "python",
   "pygments_lexer": "ipython3",
   "version": "3.8.10"
  },
  "orig_nbformat": 4,
  "vscode": {
   "interpreter": {
    "hash": "e7370f93d1d0cde622a1f8e1c04877d8463912d04d973331ad4851f04de6915a"
   }
  }
 },
 "nbformat": 4,
 "nbformat_minor": 2
}
