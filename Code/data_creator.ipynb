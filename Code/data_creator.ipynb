{
 "cells": [
  {
   "cell_type": "code",
   "execution_count": 2,
   "metadata": {},
   "outputs": [],
   "source": [
    "import numpy as np\n",
    "import pandas as pd\n",
    "import matplotlib.pyplot as plt\n",
    "import seaborn as sns"
   ]
  },
  {
   "cell_type": "code",
   "execution_count": 16,
   "metadata": {},
   "outputs": [],
   "source": [
    "data_set = pd.read_csv(\"./MiningProcess_Flotation_Plant_Database.csv\",decimal=\",\",parse_dates=[\"date\"],infer_datetime_format=True).drop_duplicates()"
   ]
  },
  {
   "cell_type": "code",
   "execution_count": 24,
   "metadata": {},
   "outputs": [
    {
     "name": "stdout",
     "output_type": "stream",
     "text": [
      "3948\n"
     ]
    }
   ],
   "source": [
    "data_array = []\n",
    "\n",
    "date_old = data_set['date'][26814]\n",
    "one_hour_step = pd.Timedelta(3.6e12)\n",
    "\n",
    "for w, date in enumerate(data_set['date']):\n",
    "    if date != data_old and w >= 26814:\n",
    "        data_array.append(date)\n",
    "        data_old = date\n",
    "        \n",
    "\n",
    "print(len(data_array))\n",
    "data_array = np.array(data_array)"
   ]
  },
  {
   "cell_type": "code",
   "execution_count": 31,
   "metadata": {},
   "outputs": [
    {
     "name": "stdout",
     "output_type": "stream",
     "text": [
      "3948\n"
     ]
    }
   ],
   "source": [
    "sf_array = []\n",
    "sf_sum = []\n",
    "\n",
    "date_old = data_set['Starch Flow'][26814]\n",
    "one_hour_step = pd.Timedelta(3.6e12)\n",
    "\n",
    "for w, data in enumerate(list(zip(data_set['date'], data_set['Starch Flow']))):\n",
    "    date = data[0]\n",
    "    if date != data_old and w >= 26814:\n",
    "        sf_array.append(np.mean(sf_sum))\n",
    "        data_old = date\n",
    "    else:\n",
    "        sf_sum.append(data[1])\n",
    "        \n",
    "\n",
    "print(len(sf_array))\n",
    "sf_array = np.array(sf_array)"
   ]
  },
  {
   "cell_type": "code",
   "execution_count": 32,
   "metadata": {},
   "outputs": [
    {
     "name": "stdout",
     "output_type": "stream",
     "text": [
      "3948\n"
     ]
    }
   ],
   "source": [
    "af_array = []\n",
    "af_sum = []\n",
    "\n",
    "date_old = data_set['date'][26814]\n",
    "one_hour_step = pd.Timedelta(3.6e12)\n",
    "\n",
    "for w, data in enumerate(list(zip(data_set['date'], data_set['Amina Flow']))):\n",
    "    date = data[0]\n",
    "    if date != data_old and w >= 26814:\n",
    "        af_array.append(np.mean(af_sum))\n",
    "        data_old = date\n",
    "    else:\n",
    "        af_sum.append(data[1])\n",
    "        \n",
    "\n",
    "print(len(af_array))\n",
    "af_array = np.array(af_array)"
   ]
  },
  {
   "cell_type": "code",
   "execution_count": 33,
   "metadata": {},
   "outputs": [
    {
     "name": "stdout",
     "output_type": "stream",
     "text": [
      "3948\n"
     ]
    }
   ],
   "source": [
    "opf_array = []\n",
    "opf_sum = []\n",
    "\n",
    "date_old = data_set['date'][26814]\n",
    "one_hour_step = pd.Timedelta(3.6e12)\n",
    "\n",
    "for w, data in enumerate(list(zip(data_set['date'], data_set['Ore Pulp Flow']))):\n",
    "    date = data[0]\n",
    "    if date != data_old and w >= 26814:\n",
    "        opf_array.append(np.mean(opf_sum))\n",
    "        data_old = date\n",
    "    else:\n",
    "        opf_sum.append(data[1])\n",
    "        \n",
    "\n",
    "print(len(opf_array))\n",
    "opf_array = np.array(opf_array)"
   ]
  },
  {
   "cell_type": "code",
   "execution_count": 35,
   "metadata": {},
   "outputs": [
    {
     "name": "stdout",
     "output_type": "stream",
     "text": [
      "3948\n"
     ]
    }
   ],
   "source": [
    "opp_array = []\n",
    "opp_sum = []\n",
    "\n",
    "date_old = data_set['date'][26814]\n",
    "one_hour_step = pd.Timedelta(3.6e12)\n",
    "\n",
    "for w, data in enumerate(list(zip(data_set['date'], data_set['Ore Pulp pH']))):\n",
    "    date = data[0]\n",
    "    if date != data_old and w >= 26814:\n",
    "        opp_array.append(np.mean(opp_sum))\n",
    "        data_old = date\n",
    "    else:\n",
    "        opp_sum.append(data[1])\n",
    "        \n",
    "\n",
    "print(len(opp_array))\n",
    "opp_array = np.array(opp_array)"
   ]
  },
  {
   "cell_type": "code",
   "execution_count": 37,
   "metadata": {},
   "outputs": [
    {
     "name": "stdout",
     "output_type": "stream",
     "text": [
      "3948\n"
     ]
    }
   ],
   "source": [
    "opd_array = []\n",
    "opd_sum = []\n",
    "\n",
    "date_old = data_set['date'][26814]\n",
    "one_hour_step = pd.Timedelta(3.6e12)\n",
    "\n",
    "for w, data in enumerate(list(zip(data_set['date'], data_set['Ore Pulp Density']))):\n",
    "    date = data[0]\n",
    "    if date != data_old and w >= 26814:\n",
    "        opd_array.append(np.mean(opd_sum))\n",
    "        data_old = date\n",
    "    else:\n",
    "        opd_sum.append(data[1])\n",
    "        \n",
    "\n",
    "print(len(opd_array))\n",
    "opd_array = np.array(opd_array)"
   ]
  },
  {
   "cell_type": "code",
   "execution_count": 39,
   "metadata": {},
   "outputs": [
    {
     "name": "stdout",
     "output_type": "stream",
     "text": [
      "3948\n"
     ]
    }
   ],
   "source": [
    "ff1_array = []\n",
    "ff1_sum = []\n",
    "\n",
    "date_old = data_set['date'][26814]\n",
    "one_hour_step = pd.Timedelta(3.6e12)\n",
    "\n",
    "for w, data in enumerate(list(zip(data_set['date'], data_set['Flotation Column 01 Air Flow']))):\n",
    "    date = data[0]\n",
    "    if date != data_old and w >= 26814:\n",
    "        ff1_array.append(np.mean(ff1_sum))\n",
    "        data_old = date\n",
    "    else:\n",
    "        ff1_sum.append(data[1])\n",
    "        \n",
    "\n",
    "print(len(ff1_array))\n",
    "ff1_array = np.array(ff1_array)"
   ]
  },
  {
   "cell_type": "code",
   "execution_count": 40,
   "metadata": {},
   "outputs": [
    {
     "name": "stdout",
     "output_type": "stream",
     "text": [
      "3948\n"
     ]
    }
   ],
   "source": [
    "ff2_array = []\n",
    "ff2_sum = []\n",
    "\n",
    "date_old = data_set['date'][26814]\n",
    "one_hour_step = pd.Timedelta(3.6e12)\n",
    "\n",
    "for w, data in enumerate(list(zip(data_set['date'], data_set['Flotation Column 02 Air Flow']))):\n",
    "    date = data[0]\n",
    "    if date != data_old and w >= 26814:\n",
    "        ff2_array.append(np.mean(ff2_sum))\n",
    "        data_old = date\n",
    "    else:\n",
    "        ff2_sum.append(data[1])\n",
    "        \n",
    "\n",
    "print(len(ff2_array))\n",
    "ff2_array = np.array(ff2_array)"
   ]
  },
  {
   "cell_type": "code",
   "execution_count": 41,
   "metadata": {},
   "outputs": [
    {
     "name": "stdout",
     "output_type": "stream",
     "text": [
      "3948\n"
     ]
    }
   ],
   "source": [
    "ff3_array = []\n",
    "ff3_sum = []\n",
    "\n",
    "date_old = data_set['date'][26814]\n",
    "one_hour_step = pd.Timedelta(3.6e12)\n",
    "\n",
    "for w, data in enumerate(list(zip(data_set['date'], data_set['Flotation Column 03 Air Flow']))):\n",
    "    date = data[0]\n",
    "    if date != data_old and w >= 26814:\n",
    "        ff3_array.append(np.mean(ff3_sum))\n",
    "        data_old = date\n",
    "    else:\n",
    "        ff3_sum.append(data[1])\n",
    "        \n",
    "\n",
    "print(len(ff3_array))\n",
    "ff3_array = np.array(ff3_array)"
   ]
  },
  {
   "cell_type": "code",
   "execution_count": 42,
   "metadata": {},
   "outputs": [
    {
     "name": "stdout",
     "output_type": "stream",
     "text": [
      "3948\n"
     ]
    }
   ],
   "source": [
    "ff4_array = []\n",
    "ff4_sum = []\n",
    "\n",
    "date_old = data_set['date'][26814]\n",
    "one_hour_step = pd.Timedelta(3.6e12)\n",
    "\n",
    "for w, data in enumerate(list(zip(data_set['date'], data_set['Flotation Column 04 Air Flow']))):\n",
    "    date = data[0]\n",
    "    if date != data_old and w >= 26814:\n",
    "        ff4_array.append(np.mean(ff4_sum))\n",
    "        data_old = date\n",
    "    else:\n",
    "        ff4_sum.append(data[1])\n",
    "        \n",
    "\n",
    "print(len(ff4_array))\n",
    "ff4_array = np.array(ff4_array)"
   ]
  },
  {
   "cell_type": "code",
   "execution_count": 43,
   "metadata": {},
   "outputs": [
    {
     "name": "stdout",
     "output_type": "stream",
     "text": [
      "3948\n"
     ]
    }
   ],
   "source": [
    "ff5_array = []\n",
    "ff5_sum = []\n",
    "\n",
    "date_old = data_set['date'][26814]\n",
    "one_hour_step = pd.Timedelta(3.6e12)\n",
    "\n",
    "for w, data in enumerate(list(zip(data_set['date'], data_set['Flotation Column 05 Air Flow']))):\n",
    "    date = data[0]\n",
    "    if date != data_old and w >= 26814:\n",
    "        ff5_array.append(np.mean(ff5_sum))\n",
    "        data_old = date\n",
    "    else:\n",
    "        ff5_sum.append(data[1])\n",
    "        \n",
    "\n",
    "print(len(ff5_array))\n",
    "ff5_array = np.array(ff5_array)"
   ]
  },
  {
   "cell_type": "code",
   "execution_count": 44,
   "metadata": {},
   "outputs": [
    {
     "name": "stdout",
     "output_type": "stream",
     "text": [
      "3948\n"
     ]
    }
   ],
   "source": [
    "ff6_array = []\n",
    "ff6_sum = []\n",
    "\n",
    "date_old = data_set['date'][26814]\n",
    "one_hour_step = pd.Timedelta(3.6e12)\n",
    "\n",
    "for w, data in enumerate(list(zip(data_set['date'], data_set['Flotation Column 06 Air Flow']))):\n",
    "    date = data[0]\n",
    "    if date != data_old and w >= 26814:\n",
    "        ff6_array.append(np.mean(ff6_sum))\n",
    "        data_old = date\n",
    "    else:\n",
    "        ff6_sum.append(data[1])\n",
    "        \n",
    "\n",
    "print(len(ff6_array))\n",
    "ff6_array = np.array(ff6_array)"
   ]
  },
  {
   "cell_type": "code",
   "execution_count": 45,
   "metadata": {},
   "outputs": [
    {
     "name": "stdout",
     "output_type": "stream",
     "text": [
      "3948\n"
     ]
    }
   ],
   "source": [
    "ff7_array = []\n",
    "ff7_sum  = []\n",
    "\n",
    "date_old = data_set['date'][26814]\n",
    "one_hour_step = pd.Timedelta(3.6e12)\n",
    "\n",
    "for w, data in enumerate(list(zip(data_set['date'], data_set['Flotation Column 07 Air Flow']))):\n",
    "    date = data[0]\n",
    "    if date != data_old and w >= 26814:\n",
    "        ff7_array.append(np.mean(ff7_sum))\n",
    "        data_old = date\n",
    "    else:\n",
    "        ff7_sum.append(data[1])\n",
    "        \n",
    "\n",
    "print(len(ff7_array))\n",
    "ff7_array = np.array(ff7_array)"
   ]
  },
  {
   "cell_type": "code",
   "execution_count": 46,
   "metadata": {},
   "outputs": [
    {
     "name": "stdout",
     "output_type": "stream",
     "text": [
      "3948\n"
     ]
    }
   ],
   "source": [
    "fl1_array = []\n",
    "fl1_sum  = []\n",
    "\n",
    "date_old = data_set['date'][26814]\n",
    "one_hour_step = pd.Timedelta(3.6e12)\n",
    "\n",
    "for w, data in enumerate(list(zip(data_set['date'], data_set['Flotation Column 01 Level']))):\n",
    "    date = data[0]\n",
    "    if date != data_old and w >= 26814:\n",
    "        fl1_array.append(np.mean(fl1_sum))\n",
    "        data_old = date\n",
    "    else:\n",
    "        fl1_sum.append(data[1])\n",
    "        \n",
    "\n",
    "print(len(fl1_array))\n",
    "fl1_array = np.array(fl1_array)"
   ]
  },
  {
   "cell_type": "code",
   "execution_count": 47,
   "metadata": {},
   "outputs": [
    {
     "name": "stdout",
     "output_type": "stream",
     "text": [
      "3948\n"
     ]
    }
   ],
   "source": [
    "fl2_array = []\n",
    "fl2_sum  = []\n",
    "\n",
    "date_old = data_set['date'][26814]\n",
    "one_hour_step = pd.Timedelta(3.6e12)\n",
    "\n",
    "for w, data in enumerate(list(zip(data_set['date'], data_set['Flotation Column 02 Level']))):\n",
    "    date = data[0]\n",
    "    if date != data_old and w >= 26814:\n",
    "        fl2_array.append(np.mean(fl2_sum))\n",
    "        data_old = date\n",
    "    else:\n",
    "        fl2_sum.append(data[1])\n",
    "        \n",
    "\n",
    "print(len(fl2_array))\n",
    "fl2_array = np.array(fl2_array)"
   ]
  },
  {
   "cell_type": "code",
   "execution_count": 48,
   "metadata": {},
   "outputs": [
    {
     "name": "stdout",
     "output_type": "stream",
     "text": [
      "3948\n"
     ]
    }
   ],
   "source": [
    "fl3_array = []\n",
    "fl3_sum  = []\n",
    "\n",
    "date_old = data_set['date'][26814]\n",
    "one_hour_step = pd.Timedelta(3.6e12)\n",
    "\n",
    "for w, data in enumerate(list(zip(data_set['date'], data_set['Flotation Column 03 Level']))):\n",
    "    date = data[0]\n",
    "    if date != data_old and w >= 26814:\n",
    "        fl3_array.append(np.mean(fl3_sum))\n",
    "        data_old = date\n",
    "    else:\n",
    "        fl3_sum.append(data[1])\n",
    "        \n",
    "\n",
    "print(len(fl3_array))\n",
    "fl3_array = np.array(fl3_array)"
   ]
  },
  {
   "cell_type": "code",
   "execution_count": 49,
   "metadata": {},
   "outputs": [
    {
     "name": "stdout",
     "output_type": "stream",
     "text": [
      "3948\n"
     ]
    }
   ],
   "source": [
    "fl4_array = []\n",
    "fl4_sum  = []\n",
    "\n",
    "date_old = data_set['date'][26814]\n",
    "one_hour_step = pd.Timedelta(3.6e12)\n",
    "\n",
    "for w, data in enumerate(list(zip(data_set['date'], data_set['Flotation Column 04 Level']))):\n",
    "    date = data[0]\n",
    "    if date != data_old and w >= 26814:\n",
    "        fl4_array.append(np.mean(fl4_sum))\n",
    "        data_old = date\n",
    "    else:\n",
    "        fl4_sum.append(data[1])\n",
    "        \n",
    "\n",
    "print(len(fl4_array))\n",
    "fl4_array = np.array(fl4_array)"
   ]
  },
  {
   "cell_type": "code",
   "execution_count": 50,
   "metadata": {},
   "outputs": [
    {
     "name": "stdout",
     "output_type": "stream",
     "text": [
      "3948\n"
     ]
    }
   ],
   "source": [
    "fl5_array = []\n",
    "fl5_sum  = []\n",
    "\n",
    "date_old = data_set['date'][26814]\n",
    "one_hour_step = pd.Timedelta(3.6e12)\n",
    "\n",
    "for w, data in enumerate(list(zip(data_set['date'], data_set['Flotation Column 05 Level']))):\n",
    "    date = data[0]\n",
    "    if date != data_old and w >= 26814:\n",
    "        fl5_array.append(np.mean(fl5_sum))\n",
    "        data_old = date\n",
    "    else:\n",
    "        fl5_sum.append(data[1])\n",
    "        \n",
    "\n",
    "print(len(fl5_array))\n",
    "fl5_array = np.array(fl5_array)"
   ]
  },
  {
   "cell_type": "code",
   "execution_count": 51,
   "metadata": {},
   "outputs": [
    {
     "name": "stdout",
     "output_type": "stream",
     "text": [
      "3948\n"
     ]
    }
   ],
   "source": [
    "fl6_array = []\n",
    "fl6_sum  = []\n",
    "\n",
    "date_old = data_set['date'][26814]\n",
    "one_hour_step = pd.Timedelta(3.6e12)\n",
    "\n",
    "for w, data in enumerate(list(zip(data_set['date'], data_set['Flotation Column 06 Level']))):\n",
    "    date = data[0]\n",
    "    if date != data_old and w >= 26814:\n",
    "        fl6_array.append(np.mean(fl6_sum))\n",
    "        data_old = date\n",
    "    else:\n",
    "        fl6_sum.append(data[1])\n",
    "        \n",
    "\n",
    "print(len(fl6_array))\n",
    "fl6_array = np.array(fl6_array)"
   ]
  },
  {
   "cell_type": "code",
   "execution_count": 52,
   "metadata": {},
   "outputs": [
    {
     "name": "stdout",
     "output_type": "stream",
     "text": [
      "3948\n"
     ]
    }
   ],
   "source": [
    "fl7_array = []\n",
    "fl7_sum  = []\n",
    "\n",
    "date_old = data_set['date'][26814]\n",
    "one_hour_step = pd.Timedelta(3.6e12)\n",
    "\n",
    "for w, data in enumerate(list(zip(data_set['date'], data_set['Flotation Column 07 Level']))):\n",
    "    date = data[0]\n",
    "    if date != data_old and w >= 26814:\n",
    "        fl7_array.append(np.mean(fl7_sum))\n",
    "        data_old = date\n",
    "    else:\n",
    "        fl7_sum.append(data[1])\n",
    "        \n",
    "\n",
    "print(len(fl7_array))\n",
    "fl7_array = np.array(fl7_array)"
   ]
  },
  {
   "cell_type": "code",
   "execution_count": 53,
   "metadata": {},
   "outputs": [
    {
     "name": "stdout",
     "output_type": "stream",
     "text": [
      "3948\n"
     ]
    }
   ],
   "source": [
    "ofd_array = []\n",
    "ofd_sum  = []\n",
    "\n",
    "date_old = data_set['date'][26814]\n",
    "one_hour_step = pd.Timedelta(3.6e12)\n",
    "\n",
    "for w, data in enumerate(list(zip(data_set['date'], data_set['% Iron Feed']))):\n",
    "    date = data[0]\n",
    "    if date != data_old and w >= 26814:\n",
    "        ofd_array.append(np.mean(ofd_sum))\n",
    "        data_old = date\n",
    "    else:\n",
    "        ofd_sum.append(data[1])\n",
    "        \n",
    "\n",
    "print(len(ofd_array))\n",
    "ofd_array = np.array(ofd_array)"
   ]
  },
  {
   "cell_type": "code",
   "execution_count": 54,
   "metadata": {},
   "outputs": [
    {
     "name": "stdout",
     "output_type": "stream",
     "text": [
      "3948\n"
     ]
    }
   ],
   "source": [
    "sfd_array = []\n",
    "sfd_sum  = []\n",
    "\n",
    "date_old = data_set['date'][26814]\n",
    "one_hour_step = pd.Timedelta(3.6e12)\n",
    "\n",
    "for w, data in enumerate(list(zip(data_set['date'], data_set['% Iron Feed']))):\n",
    "    date = data[0]\n",
    "    if date != data_old and w >= 26814:\n",
    "        sfd_array.append(np.mean(sfd_sum))\n",
    "        data_old = date\n",
    "    else:\n",
    "        sfd_sum.append(data[1])\n",
    "        \n",
    "\n",
    "print(len(sfd_array))\n",
    "sfd_array = np.array(sfd_array)"
   ]
  },
  {
   "cell_type": "code",
   "execution_count": 55,
   "metadata": {},
   "outputs": [
    {
     "name": "stdout",
     "output_type": "stream",
     "text": [
      "3948\n"
     ]
    }
   ],
   "source": [
    "ic_array = []\n",
    "ic_sum  = []\n",
    "\n",
    "date_old = data_set['date'][26814]\n",
    "one_hour_step = pd.Timedelta(3.6e12)\n",
    "\n",
    "for w, data in enumerate(list(zip(data_set['date'], data_set['% Iron Concentrate']))):\n",
    "    date = data[0]\n",
    "    if date != data_old and w >= 26814:\n",
    "        ic_array.append(np.mean(ic_sum))\n",
    "        data_old = date\n",
    "    else:\n",
    "        ic_sum.append(data[1])\n",
    "        \n",
    "\n",
    "print(len(ic_array))\n",
    "ic_array = np.array(ic_array)"
   ]
  },
  {
   "cell_type": "code",
   "execution_count": 56,
   "metadata": {},
   "outputs": [
    {
     "name": "stdout",
     "output_type": "stream",
     "text": [
      "3948\n"
     ]
    }
   ],
   "source": [
    "sc_array = []\n",
    "sc_sum  = []\n",
    "\n",
    "date_old = data_set['date'][26814]\n",
    "one_hour_step = pd.Timedelta(3.6e12)\n",
    "\n",
    "for w, data in enumerate(list(zip(data_set['date'], data_set['% Silica Concentrate']))):\n",
    "    date = data[0]\n",
    "    if date != data_old and w >= 26814:\n",
    "        sc_array.append(np.mean(sc_sum))\n",
    "        data_old = date\n",
    "    else:\n",
    "        sc_sum.append(data[1])\n",
    "        \n",
    "\n",
    "print(len(sc_array))\n",
    "sc_array = np.array(sc_array)"
   ]
  },
  {
   "cell_type": "code",
   "execution_count": 57,
   "metadata": {},
   "outputs": [],
   "source": [
    "df = pd.DataFrame({\n",
    "    '% Iron Feed':                   ofd_array,\n",
    "    '% Silica Feed':                 sfd_array,\n",
    "    'Starch Flow':                   sf_array,\n",
    "    'Amina Flow':                    af_array,\n",
    "    'Ore Pulp Flow':                 opf_array,\n",
    "    'Ore Pulp pH':                   opp_array,\n",
    "    'Ore Pulp Density':              opd_array,\n",
    "    'Flotation Column 01 Air Flow':  ff1_array,\n",
    "    'Flotation Column 02 Air Flow':  ff2_array,\n",
    "    'Flotation Column 03 Air Flow':  ff3_array,\n",
    "    'Flotation Column 04 Air Flow':  ff4_array,\n",
    "    'Flotation Column 05 Air Flow':  ff5_array,\n",
    "    'Flotation Column 06 Air Flow':  ff6_array,\n",
    "    'Flotation Column 07 Air Flow':\t ff7_array,\n",
    "    'Flotation Column 01 Level':     fl1_array,\n",
    "    'Flotation Column 02 Level':     fl2_array,\n",
    "    'Flotation Column 03 Level':     fl3_array,\n",
    "    'Flotation Column 04 Level':     fl4_array,\n",
    "    'Flotation Column 05 Level':     fl5_array,\n",
    "    'Flotation Column 06 Level':     fl6_array,\n",
    "    'Flotation Column 07 Level':     fl7_array,\n",
    "    '% Iron Concentrate':            ic_array,\n",
    "    '% Silica Concentrate':          sc_array\n",
    "})\n",
    "\n",
    "df.to_csv(\"CompiledMeanData.csv\", index=False)"
   ]
  },
  {
   "cell_type": "code",
   "execution_count": null,
   "metadata": {},
   "outputs": [],
   "source": []
  }
 ],
 "metadata": {
  "kernelspec": {
   "display_name": "Python 3.8.10 64-bit",
   "language": "python",
   "name": "python3"
  },
  "language_info": {
   "codemirror_mode": {
    "name": "ipython",
    "version": 3
   },
   "file_extension": ".py",
   "mimetype": "text/x-python",
   "name": "python",
   "nbconvert_exporter": "python",
   "pygments_lexer": "ipython3",
   "version": "3.8.10"
  },
  "orig_nbformat": 4,
  "vscode": {
   "interpreter": {
    "hash": "e7370f93d1d0cde622a1f8e1c04877d8463912d04d973331ad4851f04de6915a"
   }
  }
 },
 "nbformat": 4,
 "nbformat_minor": 2
}
